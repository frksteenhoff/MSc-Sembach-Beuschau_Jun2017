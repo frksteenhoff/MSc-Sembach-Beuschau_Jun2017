{
 "cells": [
  {
   "cell_type": "markdown",
   "metadata": {},
   "source": [
    "# <span style=\"color:darkred\">Data extract, manipulation and visualization</span>\n",
    "Developer: Henriette Steenhoff\n",
    "\n",
    "\n",
    "\n",
    "### <span style=\"color:darkred\">Data made available for</span>\n",
    "#### Jesper Bo Sembach, Niels Beuschau\n",
    "*Master Thesis in Internet Security and Ransomware Detection*<br></br>\n",
    "The Technical University of Denmark (DTU), June 2017"
   ]
  },
  {
   "cell_type": "markdown",
   "metadata": {},
   "source": [
    "#### <span style=\"color:darkred\">Purpose</span>\n",
    "This code was made for extracting important data for analysis and results for the Master Thesis of Jesper Bo Sembach and Niels Beuschau. The code extracts and manipulates data from their test environment into correct data structures for visualization and performance analysis. "
   ]
  },
  {
   "cell_type": "markdown",
   "metadata": {},
   "source": [
    "#### <span style=\"color:darkred\">Imports</span>"
   ]
  },
  {
   "cell_type": "code",
   "execution_count": 3,
   "metadata": {
    "collapsed": true
   },
   "outputs": [],
   "source": [
    "import re\n",
    "import json\n",
    "# Only importing needed modules to avoid os.open being chosen instead of built-in open\n",
    "from os import chdir, listdir, getcwd \n",
    "\n",
    "import plotly\n",
    "import plotly.plotly as py\n",
    "from IPython.display import Image \n",
    "import plotly.graph_objs as go\n",
    "# API access to plotting tools\n",
    "plotly.tools.set_credentials_file(username='frksteenhoff2', api_key ='duu8hsfRmuI5rF2EU8o5')"
   ]
  },
  {
   "cell_type": "markdown",
   "metadata": {},
   "source": [
    "#### <span style=\"color:darkred\">Read all files in each folder of \"Speciale\"</span>"
   ]
  },
  {
   "cell_type": "code",
   "execution_count": 13,
   "metadata": {
    "collapsed": false
   },
   "outputs": [
    {
     "name": "stdout",
     "output_type": "stream",
     "text": [
      "hp1\n",
      "0\n",
      "Not implemented\n",
      "1\n",
      "Not implemented\n",
      "2\n",
      "Not implemented\n",
      "3\n",
      "Not implemented\n",
      "4\n",
      "Not implemented\n",
      "5\n",
      "Not implemented\n",
      "6\n",
      "Not implemented\n",
      "7\n",
      "Not implemented\n",
      "8\n",
      "Not implemented\n",
      "9\n",
      "Not implemented\n",
      "10\n",
      "Not implemented\n",
      "11\n",
      "12\n",
      "13\n",
      "14\n",
      "Not implemented\n",
      "15\n",
      "Not implemented\n",
      "16\n",
      "Not implemented\n",
      "17\n",
      "Not implemented\n",
      "18\n",
      "Not implemented\n",
      "19\n",
      "Not implemented\n",
      "20\n",
      "Not implemented\n",
      "21\n",
      "Not implemented\n",
      "22\n",
      "Not implemented\n",
      "23\n",
      "Not implemented\n",
      "24\n",
      "Not implemented\n",
      "25\n",
      "Not implemented\n",
      "26\n",
      "Not implemented\n",
      "27\n",
      "Not implemented\n",
      "28\n",
      "Not implemented\n",
      "29\n",
      "Not implemented\n",
      "30\n",
      "Not implemented\n",
      "31\n",
      "Not implemented\n",
      "32\n",
      "Not implemented\n",
      "33\n",
      "Not implemented\n",
      "34\n",
      "Not implemented\n",
      "35\n",
      "Not implemented\n",
      "36\n",
      "Not implemented\n",
      "37\n",
      "Not implemented\n",
      "38\n",
      "Not implemented\n",
      "39\n",
      "Not implemented\n",
      "40\n",
      "Not implemented\n",
      "41\n",
      "Not implemented\n",
      "42\n",
      "Not implemented\n",
      "43\n",
      "Not implemented\n",
      "44\n",
      "Not implemented\n",
      "45\n",
      "Not implemented\n",
      "All files read\n"
     ]
    }
   ],
   "source": [
    "# Question: why are the shannon and honey pot number not the same?\n",
    "folders = ['hp1', 'hp2','hp5', 'hp10', 'sh3', 'sh5', 'sh10', 'sh15']\n",
    "lineNumber = None\n",
    "\n",
    "# For all folders in Speciale, access each folder and  'do something'\n",
    "for folder in folders[:1]:\n",
    "    pathToFiles   = \"C:/Users/frksteenhoff/Documents/GitHub/MSc-Niels-Jesper-June2017/Speciale/\" + folder \n",
    "    chdir(pathToFiles)\n",
    "    selectedFiles = [file for file in listdir('.') if file.endswith('.txt')]\n",
    "    print folder\n",
    "    \n",
    "    # For each file in current folder, read content \n",
    "    lineNumber = 0\n",
    "    for files in selectedFiles[:2]:\n",
    "        with open(files, 'r', 1) as f:\n",
    "        # Read each line and split content into dictionary\n",
    "            content = f.readlines()\n",
    "            for lines in content:\n",
    "                print lineNumber\n",
    "                if lineNumber in range(0,11):\n",
    "                    print \"Not implemented\"\n",
    "                elif lineNumber in range(11,14):\n",
    "                    lst = lines.strip(';')\n",
    "                    title  = lst[0]\n",
    "                    values = lst[1:]\n",
    "                    \n",
    "                    trace1 = go.Scatter(\n",
    "                        x = range(0,len(values)),\n",
    "                        y = values,\n",
    "                        mode = 'lines+markers',\n",
    "                        name = 'lines+markers'\n",
    "                    )    \n",
    "                    \n",
    "                    layout= go.Layout(\n",
    "                        title= str(title),\n",
    "                        hovermode= 'closest',\n",
    "                        xaxis= dict(\n",
    "                            title= 'CPU',\n",
    "                            ticklen= 5,\n",
    "                            zeroline= False,\n",
    "                            gridwidth= 2,\n",
    "                        ),\n",
    "                        yaxis=dict(\n",
    "                            title= 'Percentage',\n",
    "                            ticklen= 5,\n",
    "                            gridwidth= 2,\n",
    "                        ),\n",
    "                        showlegend= False\n",
    "                    )\n",
    "                    data = [trace1]\n",
    "                    fig  = go.Figure(data=data, layout=layout)\n",
    "                    py.image.save_as(fig, filename='test')\n",
    "\n",
    "                else:\n",
    "                    print \"Not implemented\"\n",
    "                lineNumber += 1\n",
    "\n",
    "print \"All files read\"\n",
    "        \n"
   ]
  },
  {
   "cell_type": "code",
   "execution_count": 9,
   "metadata": {
    "collapsed": false
   },
   "outputs": [
    {
     "name": "stdout",
     "output_type": "stream",
     "text": [
      "['Test1.txt']\n",
      "Files in all:  1\n"
     ]
    }
   ],
   "source": [
    "pathToFiles   = \"C:\\Users\\frksteenhoff\\Documents\\GitHub\\MSc-Niels-Jesper-June2017\\Speciale\" \n",
    "selectedFiles = [file for file in listdir('.') if file.endswith('.txt')]\n",
    "\n",
    "print selectedFiles[:5]\n",
    "print \"Files in all: \", len(selectedFiles)"
   ]
  },
  {
   "cell_type": "markdown",
   "metadata": {},
   "source": [
    "#### <span style=\"color:darkred\">Fetching data from ``.txt``-files</span>\n",
    "Saving as ``.json``-object"
   ]
  },
  {
   "cell_type": "code",
   "execution_count": 160,
   "metadata": {
    "collapsed": false
   },
   "outputs": [
    {
     "name": "stdout",
     "output_type": "stream",
     "text": [
      "All objects saved. {'lala.pdf': {'type': 'pdf', 'size': '20'}, 'Hello.there.pdf': {'type': 'pdf', 'size': '30'}, 'myWork.docx': {'type': 'docx', 'size': '30'}}\n"
     ]
    }
   ],
   "source": [
    "data = {}\n",
    "\n",
    "for files in selectedFiles:\n",
    "    # Open file with content to convert\n",
    "    with open(selectedFiles[0], 'r') as f:\n",
    "        # Read each line and split content into dictionary\n",
    "        content = f.readlines()\n",
    "        for obj in content:\n",
    "            info = obj.split(\";\")\n",
    "            ext       = info[2].strip(\"\\n\").split('.')\n",
    "            fileName  = str(info[0])\n",
    "            size      = info[1]\n",
    "            \n",
    "            new_entry = { fileName: {\n",
    "                                    'size': size,\n",
    "                                    'type': ext[len(ext)-1]\n",
    "                                    }\n",
    "                        }\n",
    "            data.update(new_entry)\n",
    "            \n",
    "# Save file with converted content\n",
    "with open ('test.json', 'w') as outfile:\n",
    "    json.dump(data, outfile)\n",
    "print \"All objects saved.\", data"
   ]
  },
  {
   "cell_type": "markdown",
   "metadata": {},
   "source": [
    "----\n",
    "### Shortcut to simple styling tricks\n",
    "``<span style=\"color:darkred\"></span>``"
   ]
  },
  {
   "cell_type": "code",
   "execution_count": null,
   "metadata": {
    "collapsed": true
   },
   "outputs": [],
   "source": []
  }
 ],
 "metadata": {
  "anaconda-cloud": {},
  "kernelspec": {
   "display_name": "Python [Root]",
   "language": "python",
   "name": "Python [Root]"
  },
  "language_info": {
   "codemirror_mode": {
    "name": "ipython",
    "version": 2
   },
   "file_extension": ".py",
   "mimetype": "text/x-python",
   "name": "python",
   "nbconvert_exporter": "python",
   "pygments_lexer": "ipython2",
   "version": "2.7.12"
  }
 },
 "nbformat": 4,
 "nbformat_minor": 2
}
